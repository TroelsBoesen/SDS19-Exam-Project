{
 "cells": [
  {
   "cell_type": "markdown",
   "metadata": {},
   "source": [
    "# Identify local authority"
   ]
  },
  {
   "cell_type": "markdown",
   "metadata": {},
   "source": [
    "This notebook takes a dataframe with latitude and longitude values and estimates which UK local authority the point falls under by finding the shortest distance to a local authority coordinate as given by the UK ONS data set loaded below."
   ]
  },
  {
   "cell_type": "code",
   "execution_count": 7,
   "metadata": {},
   "outputs": [],
   "source": [
    "#Importing stuff\n",
    "import requests,os,time,itertools\n",
    "from tqdm import tqdm_notebook as tqdm\n",
    "import json\n",
    "import pandas as pd\n",
    "import numpy as np\n",
    "import matplotlib.pyplot as plt\n",
    "%matplotlib inline\n",
    "import seaborn as sns\n",
    "import datetime\n",
    "from tqdm import tqdm_notebook as tqdm\n",
    "from math import sin, cos, sqrt, atan2, radians\n",
    "import multiprocessing as mp\n",
    "from multiprocessing import get_context"
   ]
  },
  {
   "cell_type": "code",
   "execution_count": 3,
   "metadata": {},
   "outputs": [],
   "source": [
    "#Giving necessary information\n",
    "\n",
    "#Local path to ONS data set on local authorities\n",
    "local_path = r'C:\\Users\\Troel\\Downloads\\Local_Authority_Districts_December_2017_Super_Generalised_Clipped_Boundaries_in_Great_Britain.csv'\n",
    "\n",
    "#Dataset to load\n",
    "data_path = r\"C:\\Users\\Troel\\Lecture slides etc\\Exam\\Ny mappe\\SDS19-Exam-Project\\DataFrame_16-19_with_dicts.csv\"\n",
    "\n",
    "#Save dataset as\n",
    "out_csv = \"16_19_data_with_local_auth.csv\""
   ]
  },
  {
   "cell_type": "code",
   "execution_count": 4,
   "metadata": {},
   "outputs": [],
   "source": [
    "org_raw_data = pd.read_csv(data_path, sep=',', low_memory = False)\n",
    "raw_data = org_raw_data.copy()"
   ]
  },
  {
   "cell_type": "code",
   "execution_count": 38,
   "metadata": {},
   "outputs": [],
   "source": [
    "#Defining our function\n",
    "#The function uses variations of trigonometry to calculate the distance between two points on \n",
    "#the surface of the Earth. h/t \"Michael0x2a\". For further info see:\n",
    "#https://stackoverflow.com/questions/19412462/getting-distance-between-two-points-based-on-latitude-longitude\n",
    "\n",
    "df = pd.read_csv(local_path, sep=',')\n",
    "df = df[[\"lad17cd\",\"lad17nm\",\"long\",\"lat\"]].copy()\n",
    "# approximate radius of earth in km\n",
    "R = 6373.0\n",
    "from math import sin, cos, sqrt, atan2, radians\n",
    "\n",
    "\n",
    "def loc_aut_from_dist(lat,long):\n",
    "    loc = df.loc\n",
    "    notnull = pd.notnull\n",
    "    if notnull(lat) == True:\n",
    "\n",
    "        lat_point = radians(lat)\n",
    "        long_point = radians(long)\n",
    "\n",
    "        df['lat_dist'] = [radians(i)-lat_point for i in df['lat']]\n",
    "        df['long_dist'] = [radians(i)-long_point for i in df['long']]\n",
    "\n",
    "        df['1st'] = [sin(i/ 2)**2 for i in df['lat_dist']]\n",
    "        df['2nd'] = [cos(lat_point) * cos(radians(i)) for i in df['long']]\n",
    "        df['3rd'] = [sin(i/ 2)**2 for i in df['long_dist']]\n",
    "        df['a'] = (df['1st'] + df['2nd'] * df['3rd'])\n",
    "        df['c'] = [2 * atan2(sqrt(i), sqrt(1 - i)) for i in df['a']]\n",
    "\n",
    "        df['distance'] = [R * i for i in df['c']]\n",
    "\n",
    "        closest_local_authority = loc[df['distance'] == df['distance'].min()]['lad17cd']\n",
    "        return list(closest_local_authority)[0],df['distance'].min()\n",
    "    else:\n",
    "        return None,None"
   ]
  },
  {
   "cell_type": "code",
   "execution_count": null,
   "metadata": {},
   "outputs": [],
   "source": []
  },
  {
   "cell_type": "code",
   "execution_count": 40,
   "metadata": {},
   "outputs": [
    {
     "data": {
      "application/vnd.jupyter.widget-view+json": {
       "model_id": "5520f772b0bf433dbb258f42bcb35a41",
       "version_major": 2,
       "version_minor": 0
      },
      "text/plain": [
       "HBox(children=(IntProgress(value=0, max=838934), HTML(value='')))"
      ]
     },
     "metadata": {},
     "output_type": "display_data"
    }
   ],
   "source": [
    "raw_data['nearest_local_auth'] = [loc_aut_from_dist(lat,long)[0] for lat,long in tqdm(zip(raw_data['latitude'],raw_data['longitude']),total=len(raw_data['latitude']))]"
   ]
  },
  {
   "cell_type": "code",
   "execution_count": null,
   "metadata": {},
   "outputs": [],
   "source": [
    "raw_data['dist_to_local_auth'] = [loc_aut_from_dist(lat,long)[1] for lat,long in tqdm(zip(raw_data['latitude'],raw_data['longitude']),total=len(raw_data['latitude']))]"
   ]
  },
  {
   "cell_type": "code",
   "execution_count": 47,
   "metadata": {},
   "outputs": [],
   "source": [
    "raw_data.to_csv(out_csv,index = False)"
   ]
  },
  {
   "cell_type": "code",
   "execution_count": null,
   "metadata": {},
   "outputs": [],
   "source": []
  }
 ],
 "metadata": {
  "kernelspec": {
   "display_name": "Python 3",
   "language": "python",
   "name": "python3"
  },
  "language_info": {
   "codemirror_mode": {
    "name": "ipython",
    "version": 3
   },
   "file_extension": ".py",
   "mimetype": "text/x-python",
   "name": "python",
   "nbconvert_exporter": "python",
   "pygments_lexer": "ipython3",
   "version": "3.7.3"
  }
 },
 "nbformat": 4,
 "nbformat_minor": 2
}
